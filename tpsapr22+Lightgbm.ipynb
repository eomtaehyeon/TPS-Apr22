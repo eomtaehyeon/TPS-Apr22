{
 "cells": [
  {
   "cell_type": "markdown",
   "id": "49657642",
   "metadata": {
    "papermill": {
     "duration": 0.044904,
     "end_time": "2022-04-19T03:39:51.529680",
     "exception": false,
     "start_time": "2022-04-19T03:39:51.484776",
     "status": "completed"
    },
    "tags": []
   },
   "source": [
    "# Data Descriptions\n",
    "\n",
    "In this competition, you'll classify 60-second sequences of sensor data, indicating whether a subject was in either of two activity states for the duration of the sequence"
   ]
  },
  {
   "cell_type": "code",
   "execution_count": 1,
   "id": "bb7bbdce",
   "metadata": {
    "execution": {
     "iopub.execute_input": "2022-04-19T03:39:51.626987Z",
     "iopub.status.busy": "2022-04-19T03:39:51.626327Z",
     "iopub.status.idle": "2022-04-19T03:39:53.213416Z",
     "shell.execute_reply": "2022-04-19T03:39:53.213998Z",
     "shell.execute_reply.started": "2022-04-19T01:42:11.951566Z"
    },
    "papermill": {
     "duration": 1.63934,
     "end_time": "2022-04-19T03:39:53.214330",
     "exception": false,
     "start_time": "2022-04-19T03:39:51.574990",
     "status": "completed"
    },
    "tags": []
   },
   "outputs": [
    {
     "name": "stdout",
     "output_type": "stream",
     "text": [
      "Version Pandas 1.3.5\n",
      "Version Matplotlib 3.5.1\n",
      "Version Numpy 1.20.3\n",
      "Version Seaborn 0.11.2\n",
      "Version Sklearn 1.0.1\n"
     ]
    }
   ],
   "source": [
    "import numpy as np\n",
    "import pandas as pd\n",
    "import matplotlib\n",
    "import matplotlib.pyplot as plt\n",
    "import seaborn as sns\n",
    "import sklearn\n",
    "\n",
    "from sklearn.pipeline import Pipeline\n",
    "from sklearn.model_selection import train_test_split\n",
    "from sklearn.metrics import accuracy_score, confusion_matrix, recall_score, precision_score, f1_score\n",
    "from sklearn.compose import ColumnTransformer\n",
    "from sklearn.metrics import roc_curve, roc_auc_score\n",
    "from sklearn.model_selection import StratifiedKFold\n",
    "from sklearn.model_selection import cross_validate\n",
    "from sklearn.datasets import make_classification\n",
    "from sklearn.metrics import plot_confusion_matrix\n",
    "\n",
    "\n",
    "print(\"Version Pandas\", pd.__version__)\n",
    "print(\"Version Matplotlib\", matplotlib.__version__)\n",
    "print(\"Version Numpy\", np.__version__)\n",
    "print(\"Version Seaborn\", sns.__version__)\n",
    "print(\"Version Sklearn\",sklearn.__version__)"
   ]
  },
  {
   "cell_type": "markdown",
   "id": "c9aad7d6",
   "metadata": {
    "papermill": {
     "duration": 0.045179,
     "end_time": "2022-04-19T03:39:53.307367",
     "exception": false,
     "start_time": "2022-04-19T03:39:53.262188",
     "status": "completed"
    },
    "tags": []
   },
   "source": [
    "# Files and Field Descriptions\n",
    "- train.csv - the training set, comprising ~26,000 60-second recordings of thirteen biological sensors for almost one thousand experimental participants\n",
    "    + sequence - a unique id for each sequence\n",
    "    + subject - a unique id for the subject in the experiment\n",
    "    + step - time step of the recording, in one second intervals\n",
    "    + sensor_00 - sensor_12 - the value for each of the thirteen sensors at that time step\n",
    "- train_labels.csv - the class label for each sequence.\n",
    "    + sequence - the unique id for each sequence.\n",
    "    + state - the state associated to each sequence. This is the target which you are trying to predict.\n",
    "- test.csv - the test set. For each of the ~12,000 sequences, you should predict a value for that sequence's state.\n",
    "- sample_submission.csv - a sample submission file in the correct format."
   ]
  },
  {
   "cell_type": "code",
   "execution_count": 2,
   "id": "71f7a09c",
   "metadata": {
    "execution": {
     "iopub.execute_input": "2022-04-19T03:39:53.399383Z",
     "iopub.status.busy": "2022-04-19T03:39:53.398540Z",
     "iopub.status.idle": "2022-04-19T03:40:12.050369Z",
     "shell.execute_reply": "2022-04-19T03:40:12.049526Z",
     "shell.execute_reply.started": "2022-04-19T01:42:13.133916Z"
    },
    "papermill": {
     "duration": 18.699169,
     "end_time": "2022-04-19T03:40:12.050539",
     "exception": false,
     "start_time": "2022-04-19T03:39:53.351370",
     "status": "completed"
    },
    "tags": []
   },
   "outputs": [
    {
     "name": "stderr",
     "output_type": "stream",
     "text": [
      "/opt/conda/lib/python3.7/site-packages/numpy/lib/arraysetops.py:583: FutureWarning: elementwise comparison failed; returning scalar instead, but in the future will perform elementwise comparison\n",
      "  mask |= (ar1 == a)\n"
     ]
    }
   ],
   "source": [
    "train = pd.read_csv(\"../input/tabular-playground-series-apr-2022/train.csv\")\n",
    "target = pd.read_csv(\"../input/tabular-playground-series-apr-2022/train_labels.csv\")\n",
    "test = pd.read_csv(\"../input/tabular-playground-series-apr-2022/test.csv\")\n",
    "submission = pd.read_csv(\"../input/tabular-playground-series-apr-2022/sample_submission.csv\")\n",
    "\n",
    "train1 = pd.read_csv('../input/tabular-playground-series-apr-2022/train.csv',index_col=['sequence', 'subject', 'step'])"
   ]
  },
  {
   "cell_type": "markdown",
   "id": "e86471e0",
   "metadata": {
    "papermill": {
     "duration": 0.045427,
     "end_time": "2022-04-19T03:40:12.140372",
     "exception": false,
     "start_time": "2022-04-19T03:40:12.094945",
     "status": "completed"
    },
    "tags": []
   },
   "source": [
    "## TRAIN DATA SET "
   ]
  },
  {
   "cell_type": "code",
   "execution_count": 3,
   "id": "e0d739e9",
   "metadata": {
    "execution": {
     "iopub.execute_input": "2022-04-19T03:40:12.234230Z",
     "iopub.status.busy": "2022-04-19T03:40:12.233434Z",
     "iopub.status.idle": "2022-04-19T03:40:12.263877Z",
     "shell.execute_reply": "2022-04-19T03:40:12.264415Z",
     "shell.execute_reply.started": "2022-04-19T01:42:30.742514Z"
    },
    "papermill": {
     "duration": 0.0788,
     "end_time": "2022-04-19T03:40:12.264599",
     "exception": false,
     "start_time": "2022-04-19T03:40:12.185799",
     "status": "completed"
    },
    "tags": []
   },
   "outputs": [
    {
     "data": {
      "text/html": [
       "<div>\n",
       "<style scoped>\n",
       "    .dataframe tbody tr th:only-of-type {\n",
       "        vertical-align: middle;\n",
       "    }\n",
       "\n",
       "    .dataframe tbody tr th {\n",
       "        vertical-align: top;\n",
       "    }\n",
       "\n",
       "    .dataframe thead th {\n",
       "        text-align: right;\n",
       "    }\n",
       "</style>\n",
       "<table border=\"1\" class=\"dataframe\">\n",
       "  <thead>\n",
       "    <tr style=\"text-align: right;\">\n",
       "      <th></th>\n",
       "      <th>sequence</th>\n",
       "      <th>subject</th>\n",
       "      <th>step</th>\n",
       "      <th>sensor_00</th>\n",
       "      <th>sensor_01</th>\n",
       "      <th>sensor_02</th>\n",
       "      <th>sensor_03</th>\n",
       "      <th>sensor_04</th>\n",
       "      <th>sensor_05</th>\n",
       "      <th>sensor_06</th>\n",
       "      <th>sensor_07</th>\n",
       "      <th>sensor_08</th>\n",
       "      <th>sensor_09</th>\n",
       "      <th>sensor_10</th>\n",
       "      <th>sensor_11</th>\n",
       "      <th>sensor_12</th>\n",
       "    </tr>\n",
       "  </thead>\n",
       "  <tbody>\n",
       "    <tr>\n",
       "      <th>1558070</th>\n",
       "      <td>25967</td>\n",
       "      <td>327</td>\n",
       "      <td>50</td>\n",
       "      <td>0.299073</td>\n",
       "      <td>0.485294</td>\n",
       "      <td>-1.332820</td>\n",
       "      <td>0.543363</td>\n",
       "      <td>-0.042965</td>\n",
       "      <td>-0.119671</td>\n",
       "      <td>-0.249545</td>\n",
       "      <td>1.054962</td>\n",
       "      <td>-1.1</td>\n",
       "      <td>-0.082370</td>\n",
       "      <td>-0.048687</td>\n",
       "      <td>0.738683</td>\n",
       "      <td>0.909207</td>\n",
       "    </tr>\n",
       "    <tr>\n",
       "      <th>1558071</th>\n",
       "      <td>25967</td>\n",
       "      <td>327</td>\n",
       "      <td>51</td>\n",
       "      <td>-0.410355</td>\n",
       "      <td>0.322479</td>\n",
       "      <td>-1.332820</td>\n",
       "      <td>-1.417699</td>\n",
       "      <td>-0.883976</td>\n",
       "      <td>-0.610322</td>\n",
       "      <td>-0.375228</td>\n",
       "      <td>-1.291603</td>\n",
       "      <td>0.5</td>\n",
       "      <td>0.283960</td>\n",
       "      <td>-0.731583</td>\n",
       "      <td>0.007202</td>\n",
       "      <td>-0.830776</td>\n",
       "    </tr>\n",
       "    <tr>\n",
       "      <th>1558072</th>\n",
       "      <td>25967</td>\n",
       "      <td>327</td>\n",
       "      <td>52</td>\n",
       "      <td>-0.076507</td>\n",
       "      <td>0.339286</td>\n",
       "      <td>-1.476153</td>\n",
       "      <td>2.101770</td>\n",
       "      <td>0.919306</td>\n",
       "      <td>-0.382199</td>\n",
       "      <td>1.729508</td>\n",
       "      <td>0.770992</td>\n",
       "      <td>0.0</td>\n",
       "      <td>-0.558526</td>\n",
       "      <td>0.505781</td>\n",
       "      <td>0.614198</td>\n",
       "      <td>-1.007246</td>\n",
       "    </tr>\n",
       "    <tr>\n",
       "      <th>1558073</th>\n",
       "      <td>25967</td>\n",
       "      <td>327</td>\n",
       "      <td>53</td>\n",
       "      <td>0.915765</td>\n",
       "      <td>-0.719538</td>\n",
       "      <td>-1.666153</td>\n",
       "      <td>0.400885</td>\n",
       "      <td>0.359774</td>\n",
       "      <td>-0.371728</td>\n",
       "      <td>-0.804189</td>\n",
       "      <td>0.978626</td>\n",
       "      <td>0.2</td>\n",
       "      <td>0.646676</td>\n",
       "      <td>0.669271</td>\n",
       "      <td>0.229424</td>\n",
       "      <td>1.064365</td>\n",
       "    </tr>\n",
       "    <tr>\n",
       "      <th>1558074</th>\n",
       "      <td>25967</td>\n",
       "      <td>327</td>\n",
       "      <td>54</td>\n",
       "      <td>-0.551777</td>\n",
       "      <td>0.897059</td>\n",
       "      <td>-1.666153</td>\n",
       "      <td>-2.052212</td>\n",
       "      <td>-0.314799</td>\n",
       "      <td>-0.197457</td>\n",
       "      <td>0.032787</td>\n",
       "      <td>-1.640458</td>\n",
       "      <td>-1.2</td>\n",
       "      <td>-0.647399</td>\n",
       "      <td>-0.596996</td>\n",
       "      <td>-0.728395</td>\n",
       "      <td>0.639812</td>\n",
       "    </tr>\n",
       "    <tr>\n",
       "      <th>1558075</th>\n",
       "      <td>25967</td>\n",
       "      <td>327</td>\n",
       "      <td>55</td>\n",
       "      <td>-0.282844</td>\n",
       "      <td>-1.217437</td>\n",
       "      <td>-1.666153</td>\n",
       "      <td>0.586726</td>\n",
       "      <td>-0.930698</td>\n",
       "      <td>-0.451010</td>\n",
       "      <td>-0.651184</td>\n",
       "      <td>0.368702</td>\n",
       "      <td>0.4</td>\n",
       "      <td>0.008671</td>\n",
       "      <td>-0.723536</td>\n",
       "      <td>-0.353909</td>\n",
       "      <td>-0.914749</td>\n",
       "    </tr>\n",
       "    <tr>\n",
       "      <th>1558076</th>\n",
       "      <td>25967</td>\n",
       "      <td>327</td>\n",
       "      <td>56</td>\n",
       "      <td>0.130603</td>\n",
       "      <td>0.349790</td>\n",
       "      <td>-1.666153</td>\n",
       "      <td>-0.324779</td>\n",
       "      <td>0.775324</td>\n",
       "      <td>-0.332835</td>\n",
       "      <td>0.099271</td>\n",
       "      <td>0.122137</td>\n",
       "      <td>-0.2</td>\n",
       "      <td>0.644509</td>\n",
       "      <td>0.691407</td>\n",
       "      <td>-0.613169</td>\n",
       "      <td>-0.515772</td>\n",
       "    </tr>\n",
       "    <tr>\n",
       "      <th>1558077</th>\n",
       "      <td>25967</td>\n",
       "      <td>327</td>\n",
       "      <td>57</td>\n",
       "      <td>-0.579598</td>\n",
       "      <td>0.429622</td>\n",
       "      <td>-1.666153</td>\n",
       "      <td>0.319469</td>\n",
       "      <td>0.308861</td>\n",
       "      <td>0.282723</td>\n",
       "      <td>-0.512750</td>\n",
       "      <td>0.012214</td>\n",
       "      <td>-1.6</td>\n",
       "      <td>-0.424133</td>\n",
       "      <td>0.716855</td>\n",
       "      <td>1.628601</td>\n",
       "      <td>0.928389</td>\n",
       "    </tr>\n",
       "    <tr>\n",
       "      <th>1558078</th>\n",
       "      <td>25967</td>\n",
       "      <td>327</td>\n",
       "      <td>58</td>\n",
       "      <td>1.278980</td>\n",
       "      <td>1.711134</td>\n",
       "      <td>-1.522820</td>\n",
       "      <td>0.802655</td>\n",
       "      <td>-0.460541</td>\n",
       "      <td>-0.055348</td>\n",
       "      <td>2.405282</td>\n",
       "      <td>0.043511</td>\n",
       "      <td>1.9</td>\n",
       "      <td>0.283960</td>\n",
       "      <td>-0.914914</td>\n",
       "      <td>0.364198</td>\n",
       "      <td>0.211424</td>\n",
       "    </tr>\n",
       "    <tr>\n",
       "      <th>1558079</th>\n",
       "      <td>25967</td>\n",
       "      <td>327</td>\n",
       "      <td>59</td>\n",
       "      <td>-1.136012</td>\n",
       "      <td>-3.702731</td>\n",
       "      <td>-1.332820</td>\n",
       "      <td>-0.766372</td>\n",
       "      <td>-0.430027</td>\n",
       "      <td>-0.091997</td>\n",
       "      <td>-2.512750</td>\n",
       "      <td>-0.022901</td>\n",
       "      <td>-1.1</td>\n",
       "      <td>-0.653902</td>\n",
       "      <td>-0.418516</td>\n",
       "      <td>-1.453704</td>\n",
       "      <td>-1.561381</td>\n",
       "    </tr>\n",
       "  </tbody>\n",
       "</table>\n",
       "</div>"
      ],
      "text/plain": [
       "         sequence  subject  step  sensor_00  sensor_01  sensor_02  sensor_03  \\\n",
       "1558070     25967      327    50   0.299073   0.485294  -1.332820   0.543363   \n",
       "1558071     25967      327    51  -0.410355   0.322479  -1.332820  -1.417699   \n",
       "1558072     25967      327    52  -0.076507   0.339286  -1.476153   2.101770   \n",
       "1558073     25967      327    53   0.915765  -0.719538  -1.666153   0.400885   \n",
       "1558074     25967      327    54  -0.551777   0.897059  -1.666153  -2.052212   \n",
       "1558075     25967      327    55  -0.282844  -1.217437  -1.666153   0.586726   \n",
       "1558076     25967      327    56   0.130603   0.349790  -1.666153  -0.324779   \n",
       "1558077     25967      327    57  -0.579598   0.429622  -1.666153   0.319469   \n",
       "1558078     25967      327    58   1.278980   1.711134  -1.522820   0.802655   \n",
       "1558079     25967      327    59  -1.136012  -3.702731  -1.332820  -0.766372   \n",
       "\n",
       "         sensor_04  sensor_05  sensor_06  sensor_07  sensor_08  sensor_09  \\\n",
       "1558070  -0.042965  -0.119671  -0.249545   1.054962       -1.1  -0.082370   \n",
       "1558071  -0.883976  -0.610322  -0.375228  -1.291603        0.5   0.283960   \n",
       "1558072   0.919306  -0.382199   1.729508   0.770992        0.0  -0.558526   \n",
       "1558073   0.359774  -0.371728  -0.804189   0.978626        0.2   0.646676   \n",
       "1558074  -0.314799  -0.197457   0.032787  -1.640458       -1.2  -0.647399   \n",
       "1558075  -0.930698  -0.451010  -0.651184   0.368702        0.4   0.008671   \n",
       "1558076   0.775324  -0.332835   0.099271   0.122137       -0.2   0.644509   \n",
       "1558077   0.308861   0.282723  -0.512750   0.012214       -1.6  -0.424133   \n",
       "1558078  -0.460541  -0.055348   2.405282   0.043511        1.9   0.283960   \n",
       "1558079  -0.430027  -0.091997  -2.512750  -0.022901       -1.1  -0.653902   \n",
       "\n",
       "         sensor_10  sensor_11  sensor_12  \n",
       "1558070  -0.048687   0.738683   0.909207  \n",
       "1558071  -0.731583   0.007202  -0.830776  \n",
       "1558072   0.505781   0.614198  -1.007246  \n",
       "1558073   0.669271   0.229424   1.064365  \n",
       "1558074  -0.596996  -0.728395   0.639812  \n",
       "1558075  -0.723536  -0.353909  -0.914749  \n",
       "1558076   0.691407  -0.613169  -0.515772  \n",
       "1558077   0.716855   1.628601   0.928389  \n",
       "1558078  -0.914914   0.364198   0.211424  \n",
       "1558079  -0.418516  -1.453704  -1.561381  "
      ]
     },
     "execution_count": 3,
     "metadata": {},
     "output_type": "execute_result"
    }
   ],
   "source": [
    "train.tail(10)"
   ]
  },
  {
   "cell_type": "markdown",
   "id": "69a537e7",
   "metadata": {
    "papermill": {
     "duration": 0.048971,
     "end_time": "2022-04-19T03:40:12.358552",
     "exception": false,
     "start_time": "2022-04-19T03:40:12.309581",
     "status": "completed"
    },
    "tags": []
   },
   "source": [
    "rows : 1558080,  columns : 16"
   ]
  },
  {
   "cell_type": "code",
   "execution_count": 4,
   "id": "2e76510a",
   "metadata": {
    "execution": {
     "iopub.execute_input": "2022-04-19T03:40:12.477311Z",
     "iopub.status.busy": "2022-04-19T03:40:12.476241Z",
     "iopub.status.idle": "2022-04-19T03:40:12.551511Z",
     "shell.execute_reply": "2022-04-19T03:40:12.550603Z",
     "shell.execute_reply.started": "2022-04-19T01:42:30.774311Z"
    },
    "papermill": {
     "duration": 0.134236,
     "end_time": "2022-04-19T03:40:12.551715",
     "exception": false,
     "start_time": "2022-04-19T03:40:12.417479",
     "status": "completed"
    },
    "tags": []
   },
   "outputs": [
    {
     "name": "stdout",
     "output_type": "stream",
     "text": [
      "<class 'pandas.core.frame.DataFrame'>\n",
      "RangeIndex: 1558080 entries, 0 to 1558079\n",
      "Data columns (total 16 columns):\n",
      " #   Column     Non-Null Count    Dtype  \n",
      "---  ------     --------------    -----  \n",
      " 0   sequence   1558080 non-null  int64  \n",
      " 1   subject    1558080 non-null  int64  \n",
      " 2   step       1558080 non-null  int64  \n",
      " 3   sensor_00  1558080 non-null  float64\n",
      " 4   sensor_01  1558080 non-null  float64\n",
      " 5   sensor_02  1558080 non-null  float64\n",
      " 6   sensor_03  1558080 non-null  float64\n",
      " 7   sensor_04  1558080 non-null  float64\n",
      " 8   sensor_05  1558080 non-null  float64\n",
      " 9   sensor_06  1558080 non-null  float64\n",
      " 10  sensor_07  1558080 non-null  float64\n",
      " 11  sensor_08  1558080 non-null  float64\n",
      " 12  sensor_09  1558080 non-null  float64\n",
      " 13  sensor_10  1558080 non-null  float64\n",
      " 14  sensor_11  1558080 non-null  float64\n",
      " 15  sensor_12  1558080 non-null  float64\n",
      "dtypes: float64(13), int64(3)\n",
      "memory usage: 190.2 MB\n"
     ]
    }
   ],
   "source": [
    "train.info()"
   ]
  },
  {
   "cell_type": "markdown",
   "id": "3e2c86ea",
   "metadata": {
    "papermill": {
     "duration": 0.046186,
     "end_time": "2022-04-19T03:40:12.645996",
     "exception": false,
     "start_time": "2022-04-19T03:40:12.599810",
     "status": "completed"
    },
    "tags": []
   },
   "source": [
    "- 결측치 없음."
   ]
  },
  {
   "cell_type": "code",
   "execution_count": 5,
   "id": "57d60d6c",
   "metadata": {
    "execution": {
     "iopub.execute_input": "2022-04-19T03:40:12.741886Z",
     "iopub.status.busy": "2022-04-19T03:40:12.740834Z",
     "iopub.status.idle": "2022-04-19T03:40:12.845243Z",
     "shell.execute_reply": "2022-04-19T03:40:12.845823Z",
     "shell.execute_reply.started": "2022-04-19T01:42:30.842568Z"
    },
    "papermill": {
     "duration": 0.154574,
     "end_time": "2022-04-19T03:40:12.846037",
     "exception": false,
     "start_time": "2022-04-19T03:40:12.691463",
     "status": "completed"
    },
    "tags": []
   },
   "outputs": [
    {
     "name": "stdout",
     "output_type": "stream",
     "text": [
      "Train Data total missing values : 0\n",
      "\n",
      "Train Data missing values :\n",
      "sequence     0\n",
      "subject      0\n",
      "step         0\n",
      "sensor_00    0\n",
      "sensor_01    0\n",
      "sensor_02    0\n",
      "sensor_03    0\n",
      "sensor_04    0\n",
      "sensor_05    0\n",
      "sensor_06    0\n",
      "sensor_07    0\n",
      "sensor_08    0\n",
      "sensor_09    0\n",
      "sensor_10    0\n",
      "sensor_11    0\n",
      "sensor_12    0\n",
      "dtype: int64\n"
     ]
    }
   ],
   "source": [
    "print('Train Data total missing values :', sum(train.isna().sum()))\n",
    "print('')\n",
    "print('Train Data missing values :')\n",
    "print(train.isna().sum().sort_values(ascending = False))"
   ]
  },
  {
   "cell_type": "code",
   "execution_count": 6,
   "id": "96add5cb",
   "metadata": {
    "execution": {
     "iopub.execute_input": "2022-04-19T03:40:12.942980Z",
     "iopub.status.busy": "2022-04-19T03:40:12.942235Z",
     "iopub.status.idle": "2022-04-19T03:40:13.435284Z",
     "shell.execute_reply": "2022-04-19T03:40:13.434631Z",
     "shell.execute_reply.started": "2022-04-19T01:42:30.944045Z"
    },
    "papermill": {
     "duration": 0.54194,
     "end_time": "2022-04-19T03:40:13.435435",
     "exception": false,
     "start_time": "2022-04-19T03:40:12.893495",
     "status": "completed"
    },
    "tags": []
   },
   "outputs": [
    {
     "data": {
      "text/plain": [
       "sequence      25968\n",
       "subject         672\n",
       "step             60\n",
       "sensor_00     25792\n",
       "sensor_01     28326\n",
       "sensor_02      4771\n",
       "sensor_03     26976\n",
       "sensor_04    387971\n",
       "sensor_05     22839\n",
       "sensor_06     25078\n",
       "sensor_07     28147\n",
       "sensor_08      1924\n",
       "sensor_09     30127\n",
       "sensor_10    268478\n",
       "sensor_11     28932\n",
       "sensor_12    303949\n",
       "dtype: int64"
      ]
     },
     "execution_count": 6,
     "metadata": {},
     "output_type": "execute_result"
    }
   ],
   "source": [
    "train.nunique()"
   ]
  },
  {
   "cell_type": "markdown",
   "id": "2defad9a",
   "metadata": {
    "papermill": {
     "duration": 0.0477,
     "end_time": "2022-04-19T03:40:13.531215",
     "exception": false,
     "start_time": "2022-04-19T03:40:13.483515",
     "status": "completed"
    },
    "tags": []
   },
   "source": [
    "- train 데이터의 시퀀스 한개에 state 0 or 1 의 값을 갖는다.\n",
    "- train 과 target을 이용하여 test의 state 값의 분포를 찾는 문제."
   ]
  },
  {
   "cell_type": "markdown",
   "id": "5ced7b20",
   "metadata": {
    "papermill": {
     "duration": 0.04603,
     "end_time": "2022-04-19T03:40:13.623919",
     "exception": false,
     "start_time": "2022-04-19T03:40:13.577889",
     "status": "completed"
    },
    "tags": []
   },
   "source": [
    "## TARGET DATA SET"
   ]
  },
  {
   "cell_type": "code",
   "execution_count": 7,
   "id": "c044e51e",
   "metadata": {
    "execution": {
     "iopub.execute_input": "2022-04-19T03:40:13.725562Z",
     "iopub.status.busy": "2022-04-19T03:40:13.724779Z",
     "iopub.status.idle": "2022-04-19T03:40:13.732076Z",
     "shell.execute_reply": "2022-04-19T03:40:13.732632Z",
     "shell.execute_reply.started": "2022-04-19T01:42:31.397376Z"
    },
    "papermill": {
     "duration": 0.062466,
     "end_time": "2022-04-19T03:40:13.732817",
     "exception": false,
     "start_time": "2022-04-19T03:40:13.670351",
     "status": "completed"
    },
    "tags": []
   },
   "outputs": [
    {
     "name": "stdout",
     "output_type": "stream",
     "text": [
      "       sequence  state\n",
      "25963     25963      1\n",
      "25964     25964      0\n",
      "25965     25965      1\n",
      "25966     25966      1\n",
      "25967     25967      0\n"
     ]
    },
    {
     "data": {
      "text/plain": [
       "sequence    25968\n",
       "state           2\n",
       "dtype: int64"
      ]
     },
     "execution_count": 7,
     "metadata": {},
     "output_type": "execute_result"
    }
   ],
   "source": [
    "print(target.tail())\n",
    "\n",
    "target.nunique()"
   ]
  },
  {
   "cell_type": "markdown",
   "id": "fddce4ab",
   "metadata": {
    "papermill": {
     "duration": 0.046582,
     "end_time": "2022-04-19T03:40:13.826258",
     "exception": false,
     "start_time": "2022-04-19T03:40:13.779676",
     "status": "completed"
    },
    "tags": []
   },
   "source": [
    "## TEST DATA SET"
   ]
  },
  {
   "cell_type": "code",
   "execution_count": 8,
   "id": "b18a9361",
   "metadata": {
    "execution": {
     "iopub.execute_input": "2022-04-19T03:40:13.924199Z",
     "iopub.status.busy": "2022-04-19T03:40:13.923417Z",
     "iopub.status.idle": "2022-04-19T03:40:13.943137Z",
     "shell.execute_reply": "2022-04-19T03:40:13.943602Z",
     "shell.execute_reply.started": "2022-04-19T01:42:31.409973Z"
    },
    "papermill": {
     "duration": 0.070057,
     "end_time": "2022-04-19T03:40:13.943796",
     "exception": false,
     "start_time": "2022-04-19T03:40:13.873739",
     "status": "completed"
    },
    "tags": []
   },
   "outputs": [
    {
     "data": {
      "text/html": [
       "<div>\n",
       "<style scoped>\n",
       "    .dataframe tbody tr th:only-of-type {\n",
       "        vertical-align: middle;\n",
       "    }\n",
       "\n",
       "    .dataframe tbody tr th {\n",
       "        vertical-align: top;\n",
       "    }\n",
       "\n",
       "    .dataframe thead th {\n",
       "        text-align: right;\n",
       "    }\n",
       "</style>\n",
       "<table border=\"1\" class=\"dataframe\">\n",
       "  <thead>\n",
       "    <tr style=\"text-align: right;\">\n",
       "      <th></th>\n",
       "      <th>sequence</th>\n",
       "      <th>subject</th>\n",
       "      <th>step</th>\n",
       "      <th>sensor_00</th>\n",
       "      <th>sensor_01</th>\n",
       "      <th>sensor_02</th>\n",
       "      <th>sensor_03</th>\n",
       "      <th>sensor_04</th>\n",
       "      <th>sensor_05</th>\n",
       "      <th>sensor_06</th>\n",
       "      <th>sensor_07</th>\n",
       "      <th>sensor_08</th>\n",
       "      <th>sensor_09</th>\n",
       "      <th>sensor_10</th>\n",
       "      <th>sensor_11</th>\n",
       "      <th>sensor_12</th>\n",
       "    </tr>\n",
       "  </thead>\n",
       "  <tbody>\n",
       "    <tr>\n",
       "      <th>0</th>\n",
       "      <td>25968</td>\n",
       "      <td>684</td>\n",
       "      <td>0</td>\n",
       "      <td>2.427357</td>\n",
       "      <td>19.639706</td>\n",
       "      <td>1.0</td>\n",
       "      <td>-1.466372</td>\n",
       "      <td>-1.289973</td>\n",
       "      <td>-4.207928</td>\n",
       "      <td>2.486339</td>\n",
       "      <td>-2.493893</td>\n",
       "      <td>8.0</td>\n",
       "      <td>-1.123555</td>\n",
       "      <td>-1.673048</td>\n",
       "      <td>10.980453</td>\n",
       "      <td>0.419011</td>\n",
       "    </tr>\n",
       "    <tr>\n",
       "      <th>1</th>\n",
       "      <td>25968</td>\n",
       "      <td>684</td>\n",
       "      <td>1</td>\n",
       "      <td>-4.950541</td>\n",
       "      <td>-21.747899</td>\n",
       "      <td>1.0</td>\n",
       "      <td>0.983186</td>\n",
       "      <td>-0.569053</td>\n",
       "      <td>1.845924</td>\n",
       "      <td>-3.887978</td>\n",
       "      <td>1.727481</td>\n",
       "      <td>-2.9</td>\n",
       "      <td>0.395231</td>\n",
       "      <td>-0.882233</td>\n",
       "      <td>-1.871399</td>\n",
       "      <td>-0.008525</td>\n",
       "    </tr>\n",
       "    <tr>\n",
       "      <th>2</th>\n",
       "      <td>25968</td>\n",
       "      <td>684</td>\n",
       "      <td>2</td>\n",
       "      <td>1.136012</td>\n",
       "      <td>-10.756303</td>\n",
       "      <td>1.0</td>\n",
       "      <td>1.016814</td>\n",
       "      <td>0.964157</td>\n",
       "      <td>2.454749</td>\n",
       "      <td>0.312386</td>\n",
       "      <td>1.154198</td>\n",
       "      <td>-5.6</td>\n",
       "      <td>1.114162</td>\n",
       "      <td>1.525273</td>\n",
       "      <td>-11.584362</td>\n",
       "      <td>0.139812</td>\n",
       "    </tr>\n",
       "    <tr>\n",
       "      <th>3</th>\n",
       "      <td>25968</td>\n",
       "      <td>684</td>\n",
       "      <td>3</td>\n",
       "      <td>0.806028</td>\n",
       "      <td>6.504202</td>\n",
       "      <td>1.0</td>\n",
       "      <td>-0.179646</td>\n",
       "      <td>0.969221</td>\n",
       "      <td>-1.035153</td>\n",
       "      <td>-0.457195</td>\n",
       "      <td>0.254962</td>\n",
       "      <td>-2.7</td>\n",
       "      <td>-0.588873</td>\n",
       "      <td>0.608761</td>\n",
       "      <td>-4.241770</td>\n",
       "      <td>-0.462916</td>\n",
       "    </tr>\n",
       "    <tr>\n",
       "      <th>4</th>\n",
       "      <td>25968</td>\n",
       "      <td>684</td>\n",
       "      <td>4</td>\n",
       "      <td>1.288253</td>\n",
       "      <td>5.552521</td>\n",
       "      <td>1.0</td>\n",
       "      <td>-0.493805</td>\n",
       "      <td>-1.036124</td>\n",
       "      <td>-1.126402</td>\n",
       "      <td>2.008197</td>\n",
       "      <td>-0.730534</td>\n",
       "      <td>0.0</td>\n",
       "      <td>0.899566</td>\n",
       "      <td>-1.259615</td>\n",
       "      <td>-0.472222</td>\n",
       "      <td>-0.121483</td>\n",
       "    </tr>\n",
       "  </tbody>\n",
       "</table>\n",
       "</div>"
      ],
      "text/plain": [
       "   sequence  subject  step  sensor_00  sensor_01  sensor_02  sensor_03  \\\n",
       "0     25968      684     0   2.427357  19.639706        1.0  -1.466372   \n",
       "1     25968      684     1  -4.950541 -21.747899        1.0   0.983186   \n",
       "2     25968      684     2   1.136012 -10.756303        1.0   1.016814   \n",
       "3     25968      684     3   0.806028   6.504202        1.0  -0.179646   \n",
       "4     25968      684     4   1.288253   5.552521        1.0  -0.493805   \n",
       "\n",
       "   sensor_04  sensor_05  sensor_06  sensor_07  sensor_08  sensor_09  \\\n",
       "0  -1.289973  -4.207928   2.486339  -2.493893        8.0  -1.123555   \n",
       "1  -0.569053   1.845924  -3.887978   1.727481       -2.9   0.395231   \n",
       "2   0.964157   2.454749   0.312386   1.154198       -5.6   1.114162   \n",
       "3   0.969221  -1.035153  -0.457195   0.254962       -2.7  -0.588873   \n",
       "4  -1.036124  -1.126402   2.008197  -0.730534        0.0   0.899566   \n",
       "\n",
       "   sensor_10  sensor_11  sensor_12  \n",
       "0  -1.673048  10.980453   0.419011  \n",
       "1  -0.882233  -1.871399  -0.008525  \n",
       "2   1.525273 -11.584362   0.139812  \n",
       "3   0.608761  -4.241770  -0.462916  \n",
       "4  -1.259615  -0.472222  -0.121483  "
      ]
     },
     "execution_count": 8,
     "metadata": {},
     "output_type": "execute_result"
    }
   ],
   "source": [
    "test.head()"
   ]
  },
  {
   "cell_type": "markdown",
   "id": "2aac49aa",
   "metadata": {
    "papermill": {
     "duration": 0.048111,
     "end_time": "2022-04-19T03:40:14.039765",
     "exception": false,
     "start_time": "2022-04-19T03:40:13.991654",
     "status": "completed"
    },
    "tags": []
   },
   "source": [
    "- 훈련 데이터와 테스트 데이터의 시퀀스아이디 하나당 60초동안 센서값을 보여주기 때문에 시퀀스 아이디 하나로 그룹화 하여 아이디들의 데이터를 추출하는것이 좋아 보임."
   ]
  },
  {
   "cell_type": "markdown",
   "id": "94dd848a",
   "metadata": {
    "papermill": {
     "duration": 0.04905,
     "end_time": "2022-04-19T03:40:14.138817",
     "exception": false,
     "start_time": "2022-04-19T03:40:14.089767",
     "status": "completed"
    },
    "tags": []
   },
   "source": [
    "# EDA"
   ]
  },
  {
   "cell_type": "code",
   "execution_count": 9,
   "id": "102c4759",
   "metadata": {
    "execution": {
     "iopub.execute_input": "2022-04-19T03:40:14.241415Z",
     "iopub.status.busy": "2022-04-19T03:40:14.240434Z",
     "iopub.status.idle": "2022-04-19T03:40:14.248760Z",
     "shell.execute_reply": "2022-04-19T03:40:14.249278Z",
     "shell.execute_reply.started": "2022-04-19T01:42:31.437560Z"
    },
    "papermill": {
     "duration": 0.060148,
     "end_time": "2022-04-19T03:40:14.249460",
     "exception": false,
     "start_time": "2022-04-19T03:40:14.189312",
     "status": "completed"
    },
    "tags": []
   },
   "outputs": [
    {
     "name": "stdout",
     "output_type": "stream",
     "text": [
      "Frequency of each target classes:\n"
     ]
    },
    {
     "data": {
      "text/plain": [
       "1    13014\n",
       "0    12954\n",
       "Name: state, dtype: int64"
      ]
     },
     "execution_count": 9,
     "metadata": {},
     "output_type": "execute_result"
    }
   ],
   "source": [
    "print('Frequency of each target classes:')\n",
    "target['state'].value_counts()"
   ]
  },
  {
   "cell_type": "code",
   "execution_count": 10,
   "id": "2bed8e7d",
   "metadata": {
    "execution": {
     "iopub.execute_input": "2022-04-19T03:40:14.351244Z",
     "iopub.status.busy": "2022-04-19T03:40:14.350501Z",
     "iopub.status.idle": "2022-04-19T03:40:14.545048Z",
     "shell.execute_reply": "2022-04-19T03:40:14.546027Z",
     "shell.execute_reply.started": "2022-04-19T01:42:31.449481Z"
    },
    "papermill": {
     "duration": 0.248324,
     "end_time": "2022-04-19T03:40:14.546350",
     "exception": false,
     "start_time": "2022-04-19T03:40:14.298026",
     "status": "completed"
    },
    "tags": []
   },
   "outputs": [
    {
     "data": {
      "image/png": "[encoded data removed]",
      "text/plain": [
       "<Figure size 432x288 with 1 Axes>"
      ]
     },
     "metadata": {},
     "output_type": "display_data"
    }
   ],
   "source": [
    "# Frequency of each target classes\n",
    "\n",
    "import matplotlib.pyplot as plt\n",
    "\n",
    "ratio = target['state'].value_counts()\n",
    "labels = ['1','0']\n",
    "wedgeprops = {'width': 0.7, 'edgecolor': 'w', 'linewidth': 5}\n",
    "\n",
    "\n",
    "plt.pie(ratio, labels=labels, startangle=90, autopct='%.1f%%', shadow=True, wedgeprops=wedgeprops)\n",
    "plt.show()"
   ]
  },
  {
   "cell_type": "code",
   "execution_count": 11,
   "id": "f0412fc4",
   "metadata": {
    "execution": {
     "iopub.execute_input": "2022-04-19T03:40:14.681014Z",
     "iopub.status.busy": "2022-04-19T03:40:14.680344Z",
     "iopub.status.idle": "2022-04-19T03:40:15.976971Z",
     "shell.execute_reply": "2022-04-19T03:40:15.977503Z",
     "shell.execute_reply.started": "2022-04-19T01:42:31.639368Z"
    },
    "papermill": {
     "duration": 1.3495,
     "end_time": "2022-04-19T03:40:15.977681",
     "exception": false,
     "start_time": "2022-04-19T03:40:14.628181",
     "status": "completed"
    },
    "tags": []
   },
   "outputs": [
    {
     "data": {
      "text/html": [
       "<div>\n",
       "<style scoped>\n",
       "    .dataframe tbody tr th:only-of-type {\n",
       "        vertical-align: middle;\n",
       "    }\n",
       "\n",
       "    .dataframe tbody tr th {\n",
       "        vertical-align: top;\n",
       "    }\n",
       "\n",
       "    .dataframe thead th {\n",
       "        text-align: right;\n",
       "    }\n",
       "</style>\n",
       "<table border=\"1\" class=\"dataframe\">\n",
       "  <thead>\n",
       "    <tr style=\"text-align: right;\">\n",
       "      <th></th>\n",
       "      <th>sequence</th>\n",
       "      <th>subject</th>\n",
       "      <th>step</th>\n",
       "      <th>sensor_00</th>\n",
       "      <th>sensor_01</th>\n",
       "      <th>sensor_02</th>\n",
       "      <th>sensor_03</th>\n",
       "      <th>sensor_04</th>\n",
       "      <th>sensor_05</th>\n",
       "      <th>sensor_06</th>\n",
       "      <th>sensor_07</th>\n",
       "      <th>sensor_08</th>\n",
       "      <th>sensor_09</th>\n",
       "      <th>sensor_10</th>\n",
       "      <th>sensor_11</th>\n",
       "      <th>sensor_12</th>\n",
       "    </tr>\n",
       "  </thead>\n",
       "  <tbody>\n",
       "    <tr>\n",
       "      <th>sequence</th>\n",
       "      <td>1.000000e+00</td>\n",
       "      <td>-3.247774e-03</td>\n",
       "      <td>5.821928e-15</td>\n",
       "      <td>-0.000085</td>\n",
       "      <td>-0.000101</td>\n",
       "      <td>0.005470</td>\n",
       "      <td>0.000315</td>\n",
       "      <td>0.000416</td>\n",
       "      <td>0.000265</td>\n",
       "      <td>-0.000060</td>\n",
       "      <td>0.000188</td>\n",
       "      <td>0.000377</td>\n",
       "      <td>-0.000251</td>\n",
       "      <td>-0.000186</td>\n",
       "      <td>1.706946e-04</td>\n",
       "      <td>-0.000037</td>\n",
       "    </tr>\n",
       "    <tr>\n",
       "      <th>subject</th>\n",
       "      <td>-3.247774e-03</td>\n",
       "      <td>1.000000e+00</td>\n",
       "      <td>-1.040897e-16</td>\n",
       "      <td>0.000170</td>\n",
       "      <td>-0.000031</td>\n",
       "      <td>0.007330</td>\n",
       "      <td>-0.000036</td>\n",
       "      <td>-0.000607</td>\n",
       "      <td>-0.000150</td>\n",
       "      <td>-0.000132</td>\n",
       "      <td>0.000092</td>\n",
       "      <td>-0.000269</td>\n",
       "      <td>0.000080</td>\n",
       "      <td>-0.000852</td>\n",
       "      <td>1.091758e-04</td>\n",
       "      <td>0.000469</td>\n",
       "    </tr>\n",
       "    <tr>\n",
       "      <th>step</th>\n",
       "      <td>5.821928e-15</td>\n",
       "      <td>-1.040897e-16</td>\n",
       "      <td>1.000000e+00</td>\n",
       "      <td>-0.000246</td>\n",
       "      <td>0.000037</td>\n",
       "      <td>0.000065</td>\n",
       "      <td>0.000564</td>\n",
       "      <td>-0.000047</td>\n",
       "      <td>-0.000072</td>\n",
       "      <td>-0.000086</td>\n",
       "      <td>0.000185</td>\n",
       "      <td>0.000203</td>\n",
       "      <td>-0.000091</td>\n",
       "      <td>-0.000466</td>\n",
       "      <td>5.444838e-07</td>\n",
       "      <td>0.000249</td>\n",
       "    </tr>\n",
       "    <tr>\n",
       "      <th>sensor_00</th>\n",
       "      <td>-8.500061e-05</td>\n",
       "      <td>1.700495e-04</td>\n",
       "      <td>-2.458090e-04</td>\n",
       "      <td>1.000000</td>\n",
       "      <td>0.270416</td>\n",
       "      <td>0.000134</td>\n",
       "      <td>-0.045438</td>\n",
       "      <td>-0.001280</td>\n",
       "      <td>0.001453</td>\n",
       "      <td>0.531812</td>\n",
       "      <td>0.049807</td>\n",
       "      <td>-0.004507</td>\n",
       "      <td>0.478972</td>\n",
       "      <td>-0.000233</td>\n",
       "      <td>-8.952496e-02</td>\n",
       "      <td>-0.000120</td>\n",
       "    </tr>\n",
       "    <tr>\n",
       "      <th>sensor_01</th>\n",
       "      <td>-1.009615e-04</td>\n",
       "      <td>-3.086204e-05</td>\n",
       "      <td>3.712678e-05</td>\n",
       "      <td>0.270416</td>\n",
       "      <td>1.000000</td>\n",
       "      <td>0.000253</td>\n",
       "      <td>0.007056</td>\n",
       "      <td>0.004169</td>\n",
       "      <td>-0.004363</td>\n",
       "      <td>0.328691</td>\n",
       "      <td>-0.055740</td>\n",
       "      <td>-0.005967</td>\n",
       "      <td>0.222082</td>\n",
       "      <td>0.000088</td>\n",
       "      <td>2.450832e-01</td>\n",
       "      <td>-0.001769</td>\n",
       "    </tr>\n",
       "    <tr>\n",
       "      <th>sensor_02</th>\n",
       "      <td>5.470164e-03</td>\n",
       "      <td>7.329859e-03</td>\n",
       "      <td>6.542708e-05</td>\n",
       "      <td>0.000134</td>\n",
       "      <td>0.000253</td>\n",
       "      <td>1.000000</td>\n",
       "      <td>-0.000646</td>\n",
       "      <td>0.000290</td>\n",
       "      <td>0.001385</td>\n",
       "      <td>0.000143</td>\n",
       "      <td>-0.000402</td>\n",
       "      <td>-0.000403</td>\n",
       "      <td>0.000202</td>\n",
       "      <td>0.003469</td>\n",
       "      <td>-8.829585e-05</td>\n",
       "      <td>-0.000343</td>\n",
       "    </tr>\n",
       "    <tr>\n",
       "      <th>sensor_03</th>\n",
       "      <td>3.152981e-04</td>\n",
       "      <td>-3.570893e-05</td>\n",
       "      <td>5.639744e-04</td>\n",
       "      <td>-0.045438</td>\n",
       "      <td>0.007056</td>\n",
       "      <td>-0.000646</td>\n",
       "      <td>1.000000</td>\n",
       "      <td>-0.001226</td>\n",
       "      <td>0.002956</td>\n",
       "      <td>0.031617</td>\n",
       "      <td>0.565541</td>\n",
       "      <td>0.012267</td>\n",
       "      <td>-0.023650</td>\n",
       "      <td>-0.005500</td>\n",
       "      <td>5.015281e-01</td>\n",
       "      <td>-0.000658</td>\n",
       "    </tr>\n",
       "    <tr>\n",
       "      <th>sensor_04</th>\n",
       "      <td>4.156163e-04</td>\n",
       "      <td>-6.074459e-04</td>\n",
       "      <td>-4.712730e-05</td>\n",
       "      <td>-0.001280</td>\n",
       "      <td>0.004169</td>\n",
       "      <td>0.000290</td>\n",
       "      <td>-0.001226</td>\n",
       "      <td>1.000000</td>\n",
       "      <td>0.001469</td>\n",
       "      <td>-0.001009</td>\n",
       "      <td>-0.002383</td>\n",
       "      <td>-0.000150</td>\n",
       "      <td>0.002782</td>\n",
       "      <td>0.227802</td>\n",
       "      <td>-1.558559e-03</td>\n",
       "      <td>-0.016335</td>\n",
       "    </tr>\n",
       "    <tr>\n",
       "      <th>sensor_05</th>\n",
       "      <td>2.654310e-04</td>\n",
       "      <td>-1.501425e-04</td>\n",
       "      <td>-7.177237e-05</td>\n",
       "      <td>0.001453</td>\n",
       "      <td>-0.004363</td>\n",
       "      <td>0.001385</td>\n",
       "      <td>0.002956</td>\n",
       "      <td>0.001469</td>\n",
       "      <td>1.000000</td>\n",
       "      <td>-0.002843</td>\n",
       "      <td>0.004495</td>\n",
       "      <td>0.005055</td>\n",
       "      <td>0.001418</td>\n",
       "      <td>0.001771</td>\n",
       "      <td>-2.790758e-04</td>\n",
       "      <td>0.000817</td>\n",
       "    </tr>\n",
       "    <tr>\n",
       "      <th>sensor_06</th>\n",
       "      <td>-5.975779e-05</td>\n",
       "      <td>-1.316732e-04</td>\n",
       "      <td>-8.559685e-05</td>\n",
       "      <td>0.531812</td>\n",
       "      <td>0.328691</td>\n",
       "      <td>0.000143</td>\n",
       "      <td>0.031617</td>\n",
       "      <td>-0.001009</td>\n",
       "      <td>-0.002843</td>\n",
       "      <td>1.000000</td>\n",
       "      <td>-0.005468</td>\n",
       "      <td>0.003308</td>\n",
       "      <td>0.407189</td>\n",
       "      <td>0.000640</td>\n",
       "      <td>-1.023150e-02</td>\n",
       "      <td>-0.000749</td>\n",
       "    </tr>\n",
       "    <tr>\n",
       "      <th>sensor_07</th>\n",
       "      <td>1.884624e-04</td>\n",
       "      <td>9.211332e-05</td>\n",
       "      <td>1.847295e-04</td>\n",
       "      <td>0.049807</td>\n",
       "      <td>-0.055740</td>\n",
       "      <td>-0.000402</td>\n",
       "      <td>0.565541</td>\n",
       "      <td>-0.002383</td>\n",
       "      <td>0.004495</td>\n",
       "      <td>-0.005468</td>\n",
       "      <td>1.000000</td>\n",
       "      <td>0.009365</td>\n",
       "      <td>-0.010168</td>\n",
       "      <td>0.000011</td>\n",
       "      <td>4.516135e-01</td>\n",
       "      <td>-0.001853</td>\n",
       "    </tr>\n",
       "    <tr>\n",
       "      <th>sensor_08</th>\n",
       "      <td>3.771211e-04</td>\n",
       "      <td>-2.691646e-04</td>\n",
       "      <td>2.028707e-04</td>\n",
       "      <td>-0.004507</td>\n",
       "      <td>-0.005967</td>\n",
       "      <td>-0.000403</td>\n",
       "      <td>0.012267</td>\n",
       "      <td>-0.000150</td>\n",
       "      <td>0.005055</td>\n",
       "      <td>0.003308</td>\n",
       "      <td>0.009365</td>\n",
       "      <td>1.000000</td>\n",
       "      <td>-0.009789</td>\n",
       "      <td>-0.000203</td>\n",
       "      <td>9.355739e-03</td>\n",
       "      <td>-0.000646</td>\n",
       "    </tr>\n",
       "    <tr>\n",
       "      <th>sensor_09</th>\n",
       "      <td>-2.506651e-04</td>\n",
       "      <td>8.025407e-05</td>\n",
       "      <td>-9.113989e-05</td>\n",
       "      <td>0.478972</td>\n",
       "      <td>0.222082</td>\n",
       "      <td>0.000202</td>\n",
       "      <td>-0.023650</td>\n",
       "      <td>0.002782</td>\n",
       "      <td>0.001418</td>\n",
       "      <td>0.407189</td>\n",
       "      <td>-0.010168</td>\n",
       "      <td>-0.009789</td>\n",
       "      <td>1.000000</td>\n",
       "      <td>0.002988</td>\n",
       "      <td>-7.421683e-02</td>\n",
       "      <td>-0.000400</td>\n",
       "    </tr>\n",
       "    <tr>\n",
       "      <th>sensor_10</th>\n",
       "      <td>-1.864921e-04</td>\n",
       "      <td>-8.524828e-04</td>\n",
       "      <td>-4.660838e-04</td>\n",
       "      <td>-0.000233</td>\n",
       "      <td>0.000088</td>\n",
       "      <td>0.003469</td>\n",
       "      <td>-0.005500</td>\n",
       "      <td>0.227802</td>\n",
       "      <td>0.001771</td>\n",
       "      <td>0.000640</td>\n",
       "      <td>0.000011</td>\n",
       "      <td>-0.000203</td>\n",
       "      <td>0.002988</td>\n",
       "      <td>1.000000</td>\n",
       "      <td>-5.242566e-03</td>\n",
       "      <td>-0.054651</td>\n",
       "    </tr>\n",
       "    <tr>\n",
       "      <th>sensor_11</th>\n",
       "      <td>1.706946e-04</td>\n",
       "      <td>1.091758e-04</td>\n",
       "      <td>5.444838e-07</td>\n",
       "      <td>-0.089525</td>\n",
       "      <td>0.245083</td>\n",
       "      <td>-0.000088</td>\n",
       "      <td>0.501528</td>\n",
       "      <td>-0.001559</td>\n",
       "      <td>-0.000279</td>\n",
       "      <td>-0.010232</td>\n",
       "      <td>0.451613</td>\n",
       "      <td>0.009356</td>\n",
       "      <td>-0.074217</td>\n",
       "      <td>-0.005243</td>\n",
       "      <td>1.000000e+00</td>\n",
       "      <td>-0.001231</td>\n",
       "    </tr>\n",
       "    <tr>\n",
       "      <th>sensor_12</th>\n",
       "      <td>-3.699959e-05</td>\n",
       "      <td>4.693422e-04</td>\n",
       "      <td>2.494245e-04</td>\n",
       "      <td>-0.000120</td>\n",
       "      <td>-0.001769</td>\n",
       "      <td>-0.000343</td>\n",
       "      <td>-0.000658</td>\n",
       "      <td>-0.016335</td>\n",
       "      <td>0.000817</td>\n",
       "      <td>-0.000749</td>\n",
       "      <td>-0.001853</td>\n",
       "      <td>-0.000646</td>\n",
       "      <td>-0.000400</td>\n",
       "      <td>-0.054651</td>\n",
       "      <td>-1.231016e-03</td>\n",
       "      <td>1.000000</td>\n",
       "    </tr>\n",
       "  </tbody>\n",
       "</table>\n",
       "</div>"
      ],
      "text/plain": [
       "               sequence       subject          step  sensor_00  sensor_01  \\\n",
       "sequence   1.000000e+00 -3.247774e-03  5.821928e-15  -0.000085  -0.000101   \n",
       "subject   -3.247774e-03  1.000000e+00 -1.040897e-16   0.000170  -0.000031   \n",
       "step       5.821928e-15 -1.040897e-16  1.000000e+00  -0.000246   0.000037   \n",
       "sensor_00 -8.500061e-05  1.700495e-04 -2.458090e-04   1.000000   0.270416   \n",
       "sensor_01 -1.009615e-04 -3.086204e-05  3.712678e-05   0.270416   1.000000   \n",
       "sensor_02  5.470164e-03  7.329859e-03  6.542708e-05   0.000134   0.000253   \n",
       "sensor_03  3.152981e-04 -3.570893e-05  5.639744e-04  -0.045438   0.007056   \n",
       "sensor_04  4.156163e-04 -6.074459e-04 -4.712730e-05  -0.001280   0.004169   \n",
       "sensor_05  2.654310e-04 -1.501425e-04 -7.177237e-05   0.001453  -0.004363   \n",
       "sensor_06 -5.975779e-05 -1.316732e-04 -8.559685e-05   0.531812   0.328691   \n",
       "sensor_07  1.884624e-04  9.211332e-05  1.847295e-04   0.049807  -0.055740   \n",
       "sensor_08  3.771211e-04 -2.691646e-04  2.028707e-04  -0.004507  -0.005967   \n",
       "sensor_09 -2.506651e-04  8.025407e-05 -9.113989e-05   0.478972   0.222082   \n",
       "sensor_10 -1.864921e-04 -8.524828e-04 -4.660838e-04  -0.000233   0.000088   \n",
       "sensor_11  1.706946e-04  1.091758e-04  5.444838e-07  -0.089525   0.245083   \n",
       "sensor_12 -3.699959e-05  4.693422e-04  2.494245e-04  -0.000120  -0.001769   \n",
       "\n",
       "           sensor_02  sensor_03  sensor_04  sensor_05  sensor_06  sensor_07  \\\n",
       "sequence    0.005470   0.000315   0.000416   0.000265  -0.000060   0.000188   \n",
       "subject     0.007330  -0.000036  -0.000607  -0.000150  -0.000132   0.000092   \n",
       "step        0.000065   0.000564  -0.000047  -0.000072  -0.000086   0.000185   \n",
       "sensor_00   0.000134  -0.045438  -0.001280   0.001453   0.531812   0.049807   \n",
       "sensor_01   0.000253   0.007056   0.004169  -0.004363   0.328691  -0.055740   \n",
       "sensor_02   1.000000  -0.000646   0.000290   0.001385   0.000143  -0.000402   \n",
       "sensor_03  -0.000646   1.000000  -0.001226   0.002956   0.031617   0.565541   \n",
       "sensor_04   0.000290  -0.001226   1.000000   0.001469  -0.001009  -0.002383   \n",
       "sensor_05   0.001385   0.002956   0.001469   1.000000  -0.002843   0.004495   \n",
       "sensor_06   0.000143   0.031617  -0.001009  -0.002843   1.000000  -0.005468   \n",
       "sensor_07  -0.000402   0.565541  -0.002383   0.004495  -0.005468   1.000000   \n",
       "sensor_08  -0.000403   0.012267  -0.000150   0.005055   0.003308   0.009365   \n",
       "sensor_09   0.000202  -0.023650   0.002782   0.001418   0.407189  -0.010168   \n",
       "sensor_10   0.003469  -0.005500   0.227802   0.001771   0.000640   0.000011   \n",
       "sensor_11  -0.000088   0.501528  -0.001559  -0.000279  -0.010232   0.451613   \n",
       "sensor_12  -0.000343  -0.000658  -0.016335   0.000817  -0.000749  -0.001853   \n",
       "\n",
       "           sensor_08  sensor_09  sensor_10     sensor_11  sensor_12  \n",
       "sequence    0.000377  -0.000251  -0.000186  1.706946e-04  -0.000037  \n",
       "subject    -0.000269   0.000080  -0.000852  1.091758e-04   0.000469  \n",
       "step        0.000203  -0.000091  -0.000466  5.444838e-07   0.000249  \n",
       "sensor_00  -0.004507   0.478972  -0.000233 -8.952496e-02  -0.000120  \n",
       "sensor_01  -0.005967   0.222082   0.000088  2.450832e-01  -0.001769  \n",
       "sensor_02  -0.000403   0.000202   0.003469 -8.829585e-05  -0.000343  \n",
       "sensor_03   0.012267  -0.023650  -0.005500  5.015281e-01  -0.000658  \n",
       "sensor_04  -0.000150   0.002782   0.227802 -1.558559e-03  -0.016335  \n",
       "sensor_05   0.005055   0.001418   0.001771 -2.790758e-04   0.000817  \n",
       "sensor_06   0.003308   0.407189   0.000640 -1.023150e-02  -0.000749  \n",
       "sensor_07   0.009365  -0.010168   0.000011  4.516135e-01  -0.001853  \n",
       "sensor_08   1.000000  -0.009789  -0.000203  9.355739e-03  -0.000646  \n",
       "sensor_09  -0.009789   1.000000   0.002988 -7.421683e-02  -0.000400  \n",
       "sensor_10  -0.000203   0.002988   1.000000 -5.242566e-03  -0.054651  \n",
       "sensor_11   0.009356  -0.074217  -0.005243  1.000000e+00  -0.001231  \n",
       "sensor_12  -0.000646  -0.000400  -0.054651 -1.231016e-03   1.000000  "
      ]
     },
     "execution_count": 11,
     "metadata": {},
     "output_type": "execute_result"
    }
   ],
   "source": [
    "train.corr()"
   ]
  },
  {
   "cell_type": "code",
   "execution_count": 12,
   "id": "171d81f3",
   "metadata": {
    "execution": {
     "iopub.execute_input": "2022-04-19T03:40:16.086935Z",
     "iopub.status.busy": "2022-04-19T03:40:16.085470Z",
     "iopub.status.idle": "2022-04-19T03:40:17.697341Z",
     "shell.execute_reply": "2022-04-19T03:40:17.695811Z",
     "shell.execute_reply.started": "2022-04-19T01:42:32.938936Z"
    },
    "papermill": {
     "duration": 1.668734,
     "end_time": "2022-04-19T03:40:17.697644",
     "exception": false,
     "start_time": "2022-04-19T03:40:16.028910",
     "status": "completed"
    },
    "tags": []
   },
   "outputs": [
    {
     "data": {
      "image/png": "[encoded data removed]",
      "text/plain": [
       "<Figure size 288x288 with 2 Axes>"
      ]
     },
     "metadata": {
      "needs_background": "light"
     },
     "output_type": "display_data"
    }
   ],
   "source": [
    "# 훈련 데이터의 각 컬럼과의 상관관계\n",
    "import matplotlib.pyplot as plt\n",
    "import numpy as np\n",
    "\n",
    "arr = train.corr()\n",
    "\n",
    "plt.matshow(arr)\n",
    "plt.colorbar()\n",
    "plt.show()"
   ]
  },
  {
   "cell_type": "code",
   "execution_count": 13,
   "id": "76ffe960",
   "metadata": {
    "_kg_hide-input": true,
    "_kg_hide-output": true,
    "execution": {
     "iopub.execute_input": "2022-04-19T03:40:17.814411Z",
     "iopub.status.busy": "2022-04-19T03:40:17.813583Z",
     "iopub.status.idle": "2022-04-19T03:40:17.816773Z",
     "shell.execute_reply": "2022-04-19T03:40:17.817461Z",
     "shell.execute_reply.started": "2022-04-19T01:42:34.534373Z"
    },
    "papermill": {
     "duration": 0.059441,
     "end_time": "2022-04-19T03:40:17.817645",
     "exception": false,
     "start_time": "2022-04-19T03:40:17.758204",
     "status": "completed"
    },
    "tags": []
   },
   "outputs": [],
   "source": [
    "# train 데이터를 0~59 초씩 묶은 리스트\n",
    "# a_split = np.array_split(train, 25968, axis=0)\n",
    "                         \n",
    "# print(a_split[1:2]) # 리스트이기 때문에 슬라이싱을 사용."
   ]
  },
  {
   "cell_type": "code",
   "execution_count": 14,
   "id": "cced6a3b",
   "metadata": {
    "execution": {
     "iopub.execute_input": "2022-04-19T03:40:17.925193Z",
     "iopub.status.busy": "2022-04-19T03:40:17.924427Z",
     "iopub.status.idle": "2022-04-19T03:40:17.928647Z",
     "shell.execute_reply": "2022-04-19T03:40:17.929266Z",
     "shell.execute_reply.started": "2022-04-19T01:42:34.541065Z"
    },
    "papermill": {
     "duration": 0.059897,
     "end_time": "2022-04-19T03:40:17.929460",
     "exception": false,
     "start_time": "2022-04-19T03:40:17.869563",
     "status": "completed"
    },
    "tags": []
   },
   "outputs": [],
   "source": [
    "# get the name of all sensor columns\n",
    "sensor_columns = [col for col in train.columns\n",
    "                  if 'sensor' in col.split('_')]"
   ]
  },
  {
   "cell_type": "code",
   "execution_count": 15,
   "id": "aa7a4f7d",
   "metadata": {
    "execution": {
     "iopub.execute_input": "2022-04-19T03:40:18.039251Z",
     "iopub.status.busy": "2022-04-19T03:40:18.038397Z",
     "iopub.status.idle": "2022-04-19T03:40:19.981101Z",
     "shell.execute_reply": "2022-04-19T03:40:19.981629Z",
     "shell.execute_reply.started": "2022-04-19T01:42:34.556275Z"
    },
    "papermill": {
     "duration": 1.998418,
     "end_time": "2022-04-19T03:40:19.981804",
     "exception": false,
     "start_time": "2022-04-19T03:40:17.983386",
     "status": "completed"
    },
    "tags": []
   },
   "outputs": [
    {
     "data": {
      "image/png": "[encoded data removed]",
      "text/plain": [
       "<Figure size 1296x1440 with 13 Axes>"
      ]
     },
     "metadata": {
      "needs_background": "light"
     },
     "output_type": "display_data"
    }
   ],
   "source": [
    "# 시퀀스별로 60초동안의 센서의 값을 보여주는 그래프\n",
    "def plot_sequence(sequence: int) -> None:\n",
    "    mask = train.sequence == sequence\n",
    "    ax = train[mask][sensor_columns].plot(subplots=True,\n",
    "                                             sharex=True,\n",
    "                                             figsize=(18, 20))\n",
    "    ax[0].set_title(f'Sequence {sequence}', size=22)\n",
    "    plt.show()\n",
    "\n",
    "plot_sequence(5) # 시퀀스에 있는 센서 0 ~ 12 개의 60초동안 그래프"
   ]
  },
  {
   "cell_type": "code",
   "execution_count": 16,
   "id": "39c461e7",
   "metadata": {
    "execution": {
     "iopub.execute_input": "2022-04-19T03:40:20.105989Z",
     "iopub.status.busy": "2022-04-19T03:40:20.105219Z",
     "iopub.status.idle": "2022-04-19T03:40:20.945723Z",
     "shell.execute_reply": "2022-04-19T03:40:20.946732Z",
     "shell.execute_reply.started": "2022-04-19T01:42:36.422070Z"
    },
    "papermill": {
     "duration": 0.904487,
     "end_time": "2022-04-19T03:40:20.946995",
     "exception": false,
     "start_time": "2022-04-19T03:40:20.042508",
     "status": "completed"
    },
    "tags": []
   },
   "outputs": [
    {
     "name": "stdout",
     "output_type": "stream",
     "text": [
      "          sensor_00     sensor_01     sensor_02     sensor_03     sensor_04  \\\n",
      "count  1.558080e+06  1.558080e+06  1.558080e+06  1.558080e+06  1.558080e+06   \n",
      "mean   4.365526e-04 -1.034982e-03 -2.178045e-01 -2.156555e-03 -1.828903e-03   \n",
      "std    2.658684e+00  4.404200e+00  2.298002e+00  3.934184e+00  1.683685e+00   \n",
      "min   -3.750634e+02 -4.345977e+02 -3.165948e+01 -4.083761e+02 -2.362601e+01   \n",
      "25%   -5.000000e-01 -4.831933e-01 -6.461531e-01 -4.929204e-01 -4.729928e-01   \n",
      "50%   -3.091190e-03  3.151261e-03  0.000000e+00  0.000000e+00 -1.589577e-03   \n",
      "75%    4.845440e-01  4.926471e-01  3.338469e-01  4.893805e-01  4.701565e-01   \n",
      "max    3.358246e+02  4.495914e+02  1.666667e+00  4.366504e+02  2.487286e+01   \n",
      "\n",
      "          sensor_05     sensor_06     sensor_07     sensor_08     sensor_09  \\\n",
      "count  1.558080e+06  1.558080e+06  1.558080e+06  1.558080e+06  1.558080e+06   \n",
      "mean  -1.651785e-03 -4.122917e-04 -2.620665e-05 -1.298393e-04  1.365584e-03   \n",
      "std    1.590818e+00  3.345143e+00  3.243428e+00  4.501534e+00  2.592913e+00   \n",
      "min   -7.498280e+01 -4.705046e+02 -4.070115e+02 -5.361000e+02 -2.703468e+02   \n",
      "25%   -4.786836e-01 -4.927140e-01 -5.022901e-01 -5.000000e-01 -5.151734e-01   \n",
      "50%    2.991773e-03  9.107468e-04 -2.290076e-03  0.000000e+00 -1.445087e-03   \n",
      "75%    5.056096e-01  4.927140e-01  4.847328e-01  5.000000e-01  5.086705e-01   \n",
      "max    7.791548e+01  4.425009e+02  3.312542e+02  6.301000e+02  3.679812e+02   \n",
      "\n",
      "          sensor_10     sensor_11     sensor_12  \n",
      "count  1.558080e+06  1.558080e+06  1.558080e+06  \n",
      "mean   3.315801e-04 -3.733291e-03 -1.172605e-02  \n",
      "std    1.917333e+00  4.532568e+00  3.911767e+01  \n",
      "min   -4.341271e+01 -4.270586e+02 -6.125494e+02  \n",
      "25%   -4.787939e-01 -4.835391e-01 -5.805627e-01  \n",
      "50%   -1.655822e-03  3.086420e-03  0.000000e+00  \n",
      "75%    4.780386e-01  4.938272e-01  5.703325e-01  \n",
      "max    4.186559e+01  4.480206e+02  6.305111e+02  \n"
     ]
    }
   ],
   "source": [
    "# 센서의 통계값 \n",
    "print(train1.describe())"
   ]
  },
  {
   "cell_type": "markdown",
   "id": "6c7934b4",
   "metadata": {
    "papermill": {
     "duration": 0.060577,
     "end_time": "2022-04-19T03:40:21.068841",
     "exception": false,
     "start_time": "2022-04-19T03:40:21.008264",
     "status": "completed"
    },
    "tags": []
   },
   "source": [
    "# Data Preprocessing"
   ]
  },
  {
   "cell_type": "code",
   "execution_count": 17,
   "id": "5ee2cc13",
   "metadata": {
    "execution": {
     "iopub.execute_input": "2022-04-19T03:40:21.200110Z",
     "iopub.status.busy": "2022-04-19T03:40:21.199347Z",
     "iopub.status.idle": "2022-04-19T03:40:34.679752Z",
     "shell.execute_reply": "2022-04-19T03:40:34.680328Z",
     "shell.execute_reply.started": "2022-04-19T01:42:37.233823Z"
    },
    "papermill": {
     "duration": 13.551522,
     "end_time": "2022-04-19T03:40:34.680514",
     "exception": false,
     "start_time": "2022-04-19T03:40:21.128992",
     "status": "completed"
    },
    "tags": []
   },
   "outputs": [],
   "source": [
    "\n",
    "# extracting statistical information from the train data, credit to @xinyangkabuda\n",
    "from scipy.stats.mstats import gmean\n",
    "sensor = ['00','01','02','03','04','05','06','07','08','09','10','11','12']\n",
    "for i in sensor:\n",
    "    train[f'sensor_{i}_step_mean'] = train.groupby(['sequence','subject'])[f'sensor_{i}'].transform('mean')\n",
    "    train[f'sensor_{i}_step_median'] = train.groupby(['sequence','subject'])[f'sensor_{i}'].transform('median')\n",
    "    train[f'sensor_{i}_step_std'] = train.groupby(['sequence','subject'])[f'sensor_{i}'].transform('std')\n",
    "    train[f'sensor_{i}_step_min'] = train.groupby(['sequence','subject'])[f'sensor_{i}'].transform('min')\n",
    "    train[f'sensor_{i}_step_max'] = train.groupby(['sequence','subject'])[f'sensor_{i}'].transform('max')\n",
    "    \n",
    "    test[f'sensor_{i}_step_mean'] = test.groupby(['sequence','subject'])[f'sensor_{i}'].transform('mean')\n",
    "    test[f'sensor_{i}_step_median'] = test.groupby(['sequence','subject'])[f'sensor_{i}'].transform('median')\n",
    "    test[f'sensor_{i}_step_std'] = test.groupby(['sequence','subject'])[f'sensor_{i}'].transform('std')\n",
    "    test[f'sensor_{i}_step_min'] = test.groupby(['sequence','subject'])[f'sensor_{i}'].transform('min')\n",
    "    test[f'sensor_{i}_step_max'] = test.groupby(['sequence','subject'])[f'sensor_{i}'].transform('max')\n"
   ]
  },
  {
   "cell_type": "code",
   "execution_count": 18,
   "id": "ed7750b4",
   "metadata": {
    "execution": {
     "iopub.execute_input": "2022-04-19T03:40:34.806966Z",
     "iopub.status.busy": "2022-04-19T03:40:34.805733Z",
     "iopub.status.idle": "2022-04-19T03:40:35.976438Z",
     "shell.execute_reply": "2022-04-19T03:40:35.977219Z",
     "shell.execute_reply.started": "2022-04-19T01:42:50.116560Z"
    },
    "papermill": {
     "duration": 1.237337,
     "end_time": "2022-04-19T03:40:35.977406",
     "exception": false,
     "start_time": "2022-04-19T03:40:34.740069",
     "status": "completed"
    },
    "tags": []
   },
   "outputs": [
    {
     "name": "stdout",
     "output_type": "stream",
     "text": [
      "   sequence  subject  step  sensor_00  sensor_01  sensor_02  sensor_03  \\\n",
      "0         0       47     0  -0.196291   0.112395        1.0   0.329204   \n",
      "1         0       47     1  -0.447450   0.134454        1.0  -0.658407   \n",
      "2         0       47     2   0.326893  -0.694328        1.0   0.330088   \n",
      "3         0       47     3   0.523184   0.751050        1.0   0.976991   \n",
      "4         0       47     4   0.272025   1.074580        1.0  -0.136283   \n",
      "\n",
      "   sensor_04  sensor_05  sensor_06  ...  sensor_11_step_median  \\\n",
      "0  -1.004660  -0.131638  -0.127505  ...               0.193416   \n",
      "1   0.162495   0.340314  -0.209472  ...               0.193416   \n",
      "2   0.473678   1.280479  -0.094718  ...               0.193416   \n",
      "3  -0.563287  -0.720269   0.793260  ...               0.193416   \n",
      "4   0.398579   0.044877   0.560109  ...               0.193416   \n",
      "\n",
      "   sensor_11_step_std  sensor_11_step_min  sensor_11_step_max  \\\n",
      "0            1.257716           -2.972222            2.989712   \n",
      "1            1.257716           -2.972222            2.989712   \n",
      "2            1.257716           -2.972222            2.989712   \n",
      "3            1.257716           -2.972222            2.989712   \n",
      "4            1.257716           -2.972222            2.989712   \n",
      "\n",
      "   sensor_12_step_mean  sensor_12_step_median  sensor_12_step_std  \\\n",
      "0            -1.286985              -0.447997             8.20688   \n",
      "1            -1.286985              -0.447997             8.20688   \n",
      "2            -1.286985              -0.447997             8.20688   \n",
      "3            -1.286985              -0.447997             8.20688   \n",
      "4            -1.286985              -0.447997             8.20688   \n",
      "\n",
      "   sensor_12_step_min  sensor_12_step_max  state  \n",
      "0          -50.658994            6.674766      0  \n",
      "1          -50.658994            6.674766      0  \n",
      "2          -50.658994            6.674766      0  \n",
      "3          -50.658994            6.674766      0  \n",
      "4          -50.658994            6.674766      0  \n",
      "\n",
      "[5 rows x 82 columns]\n"
     ]
    }
   ],
   "source": [
    "train_total = pd.merge(train, target, on=\"sequence\")\n",
    "# print(train_total.shape)\n",
    "print(train_total.head())"
   ]
  },
  {
   "cell_type": "markdown",
   "id": "ff9ad733",
   "metadata": {
    "papermill": {
     "duration": 0.059469,
     "end_time": "2022-04-19T03:40:36.096952",
     "exception": false,
     "start_time": "2022-04-19T03:40:36.037483",
     "status": "completed"
    },
    "tags": []
   },
   "source": [
    "# Model Evaluation"
   ]
  },
  {
   "cell_type": "markdown",
   "id": "75b50cc6",
   "metadata": {
    "papermill": {
     "duration": 0.062315,
     "end_time": "2022-04-19T03:40:36.219433",
     "exception": false,
     "start_time": "2022-04-19T03:40:36.157118",
     "status": "completed"
    },
    "tags": []
   },
   "source": [
    "## LightGBM"
   ]
  },
  {
   "cell_type": "code",
   "execution_count": 19,
   "id": "e8a58445",
   "metadata": {
    "execution": {
     "iopub.execute_input": "2022-04-19T03:40:36.347699Z",
     "iopub.status.busy": "2022-04-19T03:40:36.346905Z",
     "iopub.status.idle": "2022-04-19T03:40:37.413279Z",
     "shell.execute_reply": "2022-04-19T03:40:37.412250Z",
     "shell.execute_reply.started": "2022-04-19T01:42:51.235033Z"
    },
    "papermill": {
     "duration": 1.132642,
     "end_time": "2022-04-19T03:40:37.413486",
     "exception": false,
     "start_time": "2022-04-19T03:40:36.280844",
     "status": "completed"
    },
    "tags": []
   },
   "outputs": [
    {
     "data": {
      "text/html": [
       "<style type='text/css'>\n",
       ".datatable table.frame { margin-bottom: 0; }\n",
       ".datatable table.frame thead { border-bottom: none; }\n",
       ".datatable table.frame tr.coltypes td {  color: #FFFFFF;  line-height: 6px;  padding: 0 0.5em;}\n",
       ".datatable .bool    { background: #DDDD99; }\n",
       ".datatable .object  { background: #565656; }\n",
       ".datatable .int     { background: #5D9E5D; }\n",
       ".datatable .float   { background: #4040CC; }\n",
       ".datatable .str     { background: #CC4040; }\n",
       ".datatable .time    { background: #40CC40; }\n",
       ".datatable .row_index {  background: var(--jp-border-color3);  border-right: 1px solid var(--jp-border-color0);  color: var(--jp-ui-font-color3);  font-size: 9px;}\n",
       ".datatable .frame tbody td { text-align: left; }\n",
       ".datatable .frame tr.coltypes .row_index {  background: var(--jp-border-color0);}\n",
       ".datatable th:nth-child(2) { padding-left: 12px; }\n",
       ".datatable .hellipsis {  color: var(--jp-cell-editor-border-color);}\n",
       ".datatable .vellipsis {  background: var(--jp-layout-color0);  color: var(--jp-cell-editor-border-color);}\n",
       ".datatable .na {  color: var(--jp-cell-editor-border-color);  font-size: 80%;}\n",
       ".datatable .sp {  opacity: 0.25;}\n",
       ".datatable .footer { font-size: 9px; }\n",
       ".datatable .frame_dimensions {  background: var(--jp-border-color3);  border-top: 1px solid var(--jp-border-color0);  color: var(--jp-ui-font-color3);  display: inline-block;  opacity: 0.6;  padding: 1px 10px 1px 5px;}\n",
       "</style>\n"
      ],
      "text/plain": [
       "<IPython.core.display.HTML object>"
      ]
     },
     "metadata": {},
     "output_type": "display_data"
    },
    {
     "data": {
      "text/plain": [
       "LGBMClassifier(random_state=42)"
      ]
     },
     "execution_count": 19,
     "metadata": {},
     "output_type": "execute_result"
    }
   ],
   "source": [
    "# LightGBM\n",
    "\n",
    "from lightgbm import LGBMClassifier\n",
    "\n",
    "lgb = LGBMClassifier(random_state=42)\n",
    "lgb"
   ]
  },
  {
   "cell_type": "markdown",
   "id": "56fe7cc0",
   "metadata": {
    "papermill": {
     "duration": 0.062985,
     "end_time": "2022-04-19T03:40:37.543063",
     "exception": false,
     "start_time": "2022-04-19T03:40:37.480078",
     "status": "completed"
    },
    "tags": []
   },
   "source": [
    "## Support Vector Machine"
   ]
  },
  {
   "cell_type": "code",
   "execution_count": 20,
   "id": "ec17d2fd",
   "metadata": {
    "execution": {
     "iopub.execute_input": "2022-04-19T03:40:37.669571Z",
     "iopub.status.busy": "2022-04-19T03:40:37.668765Z",
     "iopub.status.idle": "2022-04-19T03:40:37.759999Z",
     "shell.execute_reply": "2022-04-19T03:40:37.760480Z",
     "shell.execute_reply.started": "2022-04-19T01:42:52.094214Z"
    },
    "papermill": {
     "duration": 0.15658,
     "end_time": "2022-04-19T03:40:37.760665",
     "exception": false,
     "start_time": "2022-04-19T03:40:37.604085",
     "status": "completed"
    },
    "tags": []
   },
   "outputs": [
    {
     "data": {
      "text/plain": [
       "SVC(kernel='linear')"
      ]
     },
     "execution_count": 20,
     "metadata": {},
     "output_type": "execute_result"
    }
   ],
   "source": [
    "# Support Vector Machine\n",
    "\n",
    "from sklearn.svm import SVC  \n",
    "sv = SVC(kernel='linear')\n",
    "sv"
   ]
  },
  {
   "cell_type": "markdown",
   "id": "1b9dfb66",
   "metadata": {
    "papermill": {
     "duration": 0.060614,
     "end_time": "2022-04-19T03:40:37.882573",
     "exception": false,
     "start_time": "2022-04-19T03:40:37.821959",
     "status": "completed"
    },
    "tags": []
   },
   "source": [
    "## Train Test Split"
   ]
  },
  {
   "cell_type": "code",
   "execution_count": 21,
   "id": "816d798b",
   "metadata": {
    "execution": {
     "iopub.execute_input": "2022-04-19T03:40:38.012131Z",
     "iopub.status.busy": "2022-04-19T03:40:38.011392Z",
     "iopub.status.idle": "2022-04-19T03:40:39.601326Z",
     "shell.execute_reply": "2022-04-19T03:40:39.601831Z",
     "shell.execute_reply.started": "2022-04-19T01:42:52.168992Z"
    },
    "papermill": {
     "duration": 1.656428,
     "end_time": "2022-04-19T03:40:39.602052",
     "exception": false,
     "start_time": "2022-04-19T03:40:37.945624",
     "status": "completed"
    },
    "tags": []
   },
   "outputs": [],
   "source": [
    "X_cols = test.columns\n",
    "X = train_total[X_cols].to_numpy()\n",
    "y = train_total['state'].to_numpy()"
   ]
  },
  {
   "cell_type": "code",
   "execution_count": 22,
   "id": "abf8ce28",
   "metadata": {
    "execution": {
     "iopub.execute_input": "2022-04-19T03:40:39.733273Z",
     "iopub.status.busy": "2022-04-19T03:40:39.731960Z",
     "iopub.status.idle": "2022-04-19T03:40:41.573481Z",
     "shell.execute_reply": "2022-04-19T03:40:41.573992Z",
     "shell.execute_reply.started": "2022-04-19T01:42:53.713623Z"
    },
    "papermill": {
     "duration": 1.909505,
     "end_time": "2022-04-19T03:40:41.574308",
     "exception": false,
     "start_time": "2022-04-19T03:40:39.664803",
     "status": "completed"
    },
    "tags": []
   },
   "outputs": [
    {
     "data": {
      "text/plain": [
       "((1090656, 81), (467424, 81), (1090656,), (467424,))"
      ]
     },
     "execution_count": 22,
     "metadata": {},
     "output_type": "execute_result"
    }
   ],
   "source": [
    " # train_test_split 를 이용하여 훈련데이터세트와 검증데이터세트를 만듬.\n",
    "X_train, X_val, y_train, y_val = train_test_split(X, y, test_size=0.3, random_state=42)\n",
    "X_train.shape, X_val.shape, y_train.shape, y_val.shape"
   ]
  },
  {
   "cell_type": "markdown",
   "id": "6e5b8e86",
   "metadata": {
    "papermill": {
     "duration": 0.062132,
     "end_time": "2022-04-19T03:40:41.699461",
     "exception": false,
     "start_time": "2022-04-19T03:40:41.637329",
     "status": "completed"
    },
    "tags": []
   },
   "source": [
    "## LightGBM ACC & Confusion matrix\n",
    "- train Acc. 0.881113293284042\n",
    "- test Acc. 0.8793661796203386\n",
    "- Acc. : 0.8805153351133018\n",
    "- Prec. : 0.8524599223909585\n",
    "- Recall : 0.9211888013445895\n",
    "- f1. : 0.8854927400141878"
   ]
  },
  {
   "cell_type": "code",
   "execution_count": 23,
   "id": "e2ecbd52",
   "metadata": {
    "execution": {
     "iopub.execute_input": "2022-04-19T03:40:41.827620Z",
     "iopub.status.busy": "2022-04-19T03:40:41.826548Z",
     "iopub.status.idle": "2022-04-19T03:41:57.917236Z",
     "shell.execute_reply": "2022-04-19T03:41:57.918210Z",
     "shell.execute_reply.started": "2022-04-19T01:42:55.387755Z"
    },
    "papermill": {
     "duration": 76.157676,
     "end_time": "2022-04-19T03:41:57.918482",
     "exception": false,
     "start_time": "2022-04-19T03:40:41.760806",
     "status": "completed"
    },
    "tags": []
   },
   "outputs": [
    {
     "name": "stdout",
     "output_type": "stream",
     "text": [
      "train Acc. 0.881113293284042\n",
      "test Acc. 0.8793661796203386\n"
     ]
    }
   ],
   "source": [
    "# LightGBM\n",
    "splitter = StratifiedKFold(n_splits = 3, shuffle = True, random_state=42)\n",
    "scores = cross_validate(lgb, X_train, y_train, return_train_score = True, cv=splitter)\n",
    "\n",
    "print(\"train Acc.\", np.mean(scores['train_score']))\n",
    "print(\"test Acc.\", np.mean(scores['test_score']))\n"
   ]
  },
  {
   "cell_type": "code",
   "execution_count": 24,
   "id": "15304279",
   "metadata": {
    "execution": {
     "iopub.execute_input": "2022-04-19T03:41:58.049254Z",
     "iopub.status.busy": "2022-04-19T03:41:58.048384Z",
     "iopub.status.idle": "2022-04-19T03:42:27.545118Z",
     "shell.execute_reply": "2022-04-19T03:42:27.545741Z",
     "shell.execute_reply.started": "2022-04-19T01:44:07.350851Z"
    },
    "papermill": {
     "duration": 29.562819,
     "end_time": "2022-04-19T03:42:27.545934",
     "exception": false,
     "start_time": "2022-04-19T03:41:57.983115",
     "status": "completed"
    },
    "tags": []
   },
   "outputs": [
    {
     "name": "stdout",
     "output_type": "stream",
     "text": [
      "Acc. : 0.8805153351133018\n",
      "Prec. : 0.8524599223909585\n",
      "Recall : 0.9211888013445895\n",
      "f1. : 0.8854927400141878\n"
     ]
    }
   ],
   "source": [
    "# LightGBM\n",
    "\n",
    "lgb.fit(X_train, y_train)\n",
    "y_pred = lgb.predict(X_val)\n",
    "print(\"Acc. :\", accuracy_score(y_val, y_pred))\n",
    "print(\"Prec. :\", precision_score(y_val, y_pred))\n",
    "print('Recall :', recall_score(y_val, y_pred))\n",
    "print('f1. :', f1_score(y_val, y_pred))"
   ]
  },
  {
   "cell_type": "code",
   "execution_count": 25,
   "id": "4dd57447",
   "metadata": {
    "execution": {
     "iopub.execute_input": "2022-04-19T03:42:27.679693Z",
     "iopub.status.busy": "2022-04-19T03:42:27.678870Z",
     "iopub.status.idle": "2022-04-19T03:43:01.998058Z",
     "shell.execute_reply": "2022-04-19T03:43:01.998660Z",
     "shell.execute_reply.started": "2022-04-19T01:44:38.535847Z"
    },
    "papermill": {
     "duration": 34.388239,
     "end_time": "2022-04-19T03:43:01.998895",
     "exception": false,
     "start_time": "2022-04-19T03:42:27.610656",
     "status": "completed"
    },
    "tags": []
   },
   "outputs": [
    {
     "name": "stderr",
     "output_type": "stream",
     "text": [
      "/opt/conda/lib/python3.7/site-packages/sklearn/utils/deprecation.py:87: FutureWarning: Function plot_confusion_matrix is deprecated; Function `plot_confusion_matrix` is deprecated in 1.0 and will be removed in 1.2. Use one of the class methods: ConfusionMatrixDisplay.from_predictions or ConfusionMatrixDisplay.from_estimator.\n",
      "  warnings.warn(msg, category=FutureWarning)\n"
     ]
    },
    {
     "data": {
      "image/png": "[encoded data removed]",
      "text/plain": [
       "<Figure size 432x288 with 2 Axes>"
      ]
     },
     "metadata": {
      "needs_background": "light"
     },
     "output_type": "display_data"
    }
   ],
   "source": [
    "# LightGBM\n",
    "lgb.fit(X_train, y_train)\n",
    "plot_confusion_matrix(lgb, X_val, y_val)  \n",
    "plt.title('LightGBM')\n",
    "\n",
    "plt.show()"
   ]
  },
  {
   "cell_type": "code",
   "execution_count": 26,
   "id": "0620395b",
   "metadata": {
    "execution": {
     "iopub.execute_input": "2022-04-19T03:43:02.135294Z",
     "iopub.status.busy": "2022-04-19T03:43:02.134178Z",
     "iopub.status.idle": "2022-04-19T03:43:02.140240Z",
     "shell.execute_reply": "2022-04-19T03:43:02.140711Z",
     "shell.execute_reply.started": "2022-04-19T01:45:09.170061Z"
    },
    "papermill": {
     "duration": 0.074603,
     "end_time": "2022-04-19T03:43:02.140916",
     "exception": false,
     "start_time": "2022-04-19T03:43:02.066313",
     "status": "completed"
    },
    "tags": []
   },
   "outputs": [
    {
     "data": {
      "text/plain": [
       "'\\nsplitter = StratifiedKFold(n_splits = 3, shuffle = True, random_state=42)\\nscores = cross_validate(sv, X_train, y_train, return_train_score = True, cv=splitter)\\n\\nprint(\"train Acc.\", np.mean(scores[\\'train_score\\']))\\nprint(\"test Acc.\", np.mean(scores[\\'test_score\\']))\\n'"
      ]
     },
     "execution_count": 26,
     "metadata": {},
     "output_type": "execute_result"
    }
   ],
   "source": [
    "# 시간이 너무 많이 걸림.\n",
    "# Support Vector Machine\n",
    "'''\n",
    "splitter = StratifiedKFold(n_splits = 3, shuffle = True, random_state=42)\n",
    "scores = cross_validate(sv, X_train, y_train, return_train_score = True, cv=splitter)\n",
    "\n",
    "print(\"train Acc.\", np.mean(scores['train_score']))\n",
    "print(\"test Acc.\", np.mean(scores['test_score']))\n",
    "'''"
   ]
  },
  {
   "cell_type": "code",
   "execution_count": 27,
   "id": "302f9c45",
   "metadata": {
    "execution": {
     "iopub.execute_input": "2022-04-19T03:43:02.287454Z",
     "iopub.status.busy": "2022-04-19T03:43:02.286545Z",
     "iopub.status.idle": "2022-04-19T03:43:02.290155Z",
     "shell.execute_reply": "2022-04-19T03:43:02.290681Z",
     "shell.execute_reply.started": "2022-04-19T01:45:09.179043Z"
    },
    "papermill": {
     "duration": 0.080744,
     "end_time": "2022-04-19T03:43:02.290873",
     "exception": false,
     "start_time": "2022-04-19T03:43:02.210129",
     "status": "completed"
    },
    "tags": []
   },
   "outputs": [
    {
     "data": {
      "text/plain": [
       "'\\nsv.fit(X_train, y_train)\\ny_pred = sv.predict(X_val)\\nprint(\"Acc. :\", accuracy_score(y_val, y_pred))\\nprint(\"Prec. :\", precision_score(y_val, y_pred))\\nprint(\\'Recall :\\', recall_score(y_val, y_pred))\\nprint(\\'f1. :\\', f1_score(y_val, y_pred))\\n'"
      ]
     },
     "execution_count": 27,
     "metadata": {},
     "output_type": "execute_result"
    }
   ],
   "source": [
    "# Support Vector Machine\n",
    "'''\n",
    "sv.fit(X_train, y_train)\n",
    "y_pred = sv.predict(X_val)\n",
    "print(\"Acc. :\", accuracy_score(y_val, y_pred))\n",
    "print(\"Prec. :\", precision_score(y_val, y_pred))\n",
    "print('Recall :', recall_score(y_val, y_pred))\n",
    "print('f1. :', f1_score(y_val, y_pred))\n",
    "'''"
   ]
  },
  {
   "cell_type": "markdown",
   "id": "80bc12b1",
   "metadata": {
    "papermill": {
     "duration": 0.06608,
     "end_time": "2022-04-19T03:43:02.427591",
     "exception": false,
     "start_time": "2022-04-19T03:43:02.361511",
     "status": "completed"
    },
    "tags": []
   },
   "source": [
    "# Submission"
   ]
  },
  {
   "cell_type": "code",
   "execution_count": 28,
   "id": "5091a7b6",
   "metadata": {
    "execution": {
     "iopub.execute_input": "2022-04-19T03:43:02.578838Z",
     "iopub.status.busy": "2022-04-19T03:43:02.578023Z",
     "iopub.status.idle": "2022-04-19T03:43:02.580797Z",
     "shell.execute_reply": "2022-04-19T03:43:02.581328Z",
     "shell.execute_reply.started": "2022-04-19T02:14:48.233560Z"
    },
    "papermill": {
     "duration": 0.087013,
     "end_time": "2022-04-19T03:43:02.581513",
     "exception": false,
     "start_time": "2022-04-19T03:43:02.494500",
     "status": "completed"
    },
    "tags": []
   },
   "outputs": [
    {
     "name": "stdout",
     "output_type": "stream",
     "text": [
      "<class 'pandas.core.frame.DataFrame'>\n",
      "RangeIndex: 12218 entries, 0 to 12217\n",
      "Data columns (total 2 columns):\n",
      " #   Column    Non-Null Count  Dtype\n",
      "---  ------    --------------  -----\n",
      " 0   sequence  12218 non-null  int64\n",
      " 1   state     12218 non-null  int64\n",
      "dtypes: int64(2)\n",
      "memory usage: 191.0 KB\n"
     ]
    }
   ],
   "source": [
    "submission.info()"
   ]
  },
  {
   "cell_type": "code",
   "execution_count": 29,
   "id": "f7796678",
   "metadata": {
    "execution": {
     "iopub.execute_input": "2022-04-19T03:43:02.722657Z",
     "iopub.status.busy": "2022-04-19T03:43:02.721925Z",
     "iopub.status.idle": "2022-04-19T03:43:05.428001Z",
     "shell.execute_reply": "2022-04-19T03:43:05.427237Z",
     "shell.execute_reply.started": "2022-04-19T03:04:53.142569Z"
    },
    "papermill": {
     "duration": 2.777739,
     "end_time": "2022-04-19T03:43:05.428165",
     "exception": false,
     "start_time": "2022-04-19T03:43:02.650426",
     "status": "completed"
    },
    "tags": []
   },
   "outputs": [],
   "source": [
    "lgb_test= lgb.predict(test)\n",
    "pred = pd.DataFrame({\"sequence\":test['sequence'],\n",
    "              \"state\":lgb_test.tolist()})"
   ]
  },
  {
   "cell_type": "code",
   "execution_count": 30,
   "id": "0a3353b6",
   "metadata": {
    "execution": {
     "iopub.execute_input": "2022-04-19T03:43:05.573477Z",
     "iopub.status.busy": "2022-04-19T03:43:05.572730Z",
     "iopub.status.idle": "2022-04-19T03:43:05.608586Z",
     "shell.execute_reply": "2022-04-19T03:43:05.607919Z",
     "shell.execute_reply.started": "2022-04-19T03:04:56.729579Z"
    },
    "papermill": {
     "duration": 0.112491,
     "end_time": "2022-04-19T03:43:05.608740",
     "exception": false,
     "start_time": "2022-04-19T03:43:05.496249",
     "status": "completed"
    },
    "tags": []
   },
   "outputs": [],
   "source": [
    "pred['duplicated'] = pred.duplicated()\n",
    "pred = pred[pred['duplicated']==False].iloc[:,:-1]"
   ]
  },
  {
   "cell_type": "code",
   "execution_count": 31,
   "id": "e79c5b7e",
   "metadata": {
    "execution": {
     "iopub.execute_input": "2022-04-19T03:43:05.749628Z",
     "iopub.status.busy": "2022-04-19T03:43:05.748893Z",
     "iopub.status.idle": "2022-04-19T03:43:05.755253Z",
     "shell.execute_reply": "2022-04-19T03:43:05.755792Z",
     "shell.execute_reply.started": "2022-04-19T03:23:46.000495Z"
    },
    "papermill": {
     "duration": 0.07909,
     "end_time": "2022-04-19T03:43:05.755988",
     "exception": false,
     "start_time": "2022-04-19T03:43:05.676898",
     "status": "completed"
    },
    "tags": []
   },
   "outputs": [],
   "source": [
    "dd = pred['sequence'].value_counts() == 2\n",
    "dd = dd[dd==True].index.to_list()"
   ]
  },
  {
   "cell_type": "code",
   "execution_count": 32,
   "id": "83298d57",
   "metadata": {
    "execution": {
     "iopub.execute_input": "2022-04-19T03:43:05.901436Z",
     "iopub.status.busy": "2022-04-19T03:43:05.900688Z",
     "iopub.status.idle": "2022-04-19T03:43:05.905199Z",
     "shell.execute_reply": "2022-04-19T03:43:05.905830Z",
     "shell.execute_reply.started": "2022-04-19T03:29:12.375841Z"
    },
    "papermill": {
     "duration": 0.080227,
     "end_time": "2022-04-19T03:43:05.906034",
     "exception": false,
     "start_time": "2022-04-19T03:43:05.825807",
     "status": "completed"
    },
    "tags": []
   },
   "outputs": [
    {
     "data": {
      "text/plain": [
       "\"\\nfor i in dd:\\n    if pred['sequence'] == i:\\n        print(pred[i].item)\\n\""
      ]
     },
     "execution_count": 32,
     "metadata": {},
     "output_type": "execute_result"
    }
   ],
   "source": [
    "'''\n",
    "for i in dd:\n",
    "    if pred['sequence'] == i:\n",
    "        print(pred[i].item)\n",
    "'''"
   ]
  },
  {
   "cell_type": "code",
   "execution_count": 33,
   "id": "663056ea",
   "metadata": {
    "execution": {
     "iopub.execute_input": "2022-04-19T03:43:06.050364Z",
     "iopub.status.busy": "2022-04-19T03:43:06.049187Z",
     "iopub.status.idle": "2022-04-19T03:43:06.085795Z",
     "shell.execute_reply": "2022-04-19T03:43:06.086430Z"
    },
    "papermill": {
     "duration": 0.113717,
     "end_time": "2022-04-19T03:43:06.086641",
     "exception": false,
     "start_time": "2022-04-19T03:43:05.972924",
     "status": "completed"
    },
    "tags": []
   },
   "outputs": [],
   "source": [
    "submission.to_csv('submission.csv', index=True)"
   ]
  }
 ],
 "metadata": {
  "kernelspec": {
   "display_name": "Python 3",
   "language": "python",
   "name": "python3"
  },
  "language_info": {
   "codemirror_mode": {
    "name": "ipython",
    "version": 3
   },
   "file_extension": ".py",
   "mimetype": "text/x-python",
   "name": "python",
   "nbconvert_exporter": "python",
   "pygments_lexer": "ipython3",
   "version": "3.7.12"
  },
  "papermill": {
   "default_parameters": {},
   "duration": 206.972442,
   "end_time": "2022-04-19T03:43:07.275404",
   "environment_variables": {},
   "exception": null,
   "input_path": "__notebook__.ipynb",
   "output_path": "__notebook__.ipynb",
   "parameters": {},
   "start_time": "2022-04-19T03:39:40.302962",
   "version": "2.3.3"
  }
 },
 "nbformat": 4,
 "nbformat_minor": 5
}
